{
 "cells": [
  {
   "cell_type": "code",
   "execution_count": null,
   "id": "adeb4d72",
   "metadata": {},
   "outputs": [],
   "source": [
    "preamble = 'preambles/6hour_16core.txt'\n",
    "command = 'commands/rank_study_deli.txt'"
   ]
  },
  {
   "cell_type": "code",
   "execution_count": null,
   "id": "24c2ef6e",
   "metadata": {},
   "outputs": [],
   "source": [
    "\n",
    "with open(command) as command_infile:\n",
    "    for i,command in enumerate(command_infile):\n",
    "        with open('need_to_run/rank_deli_'+str(i)+'.sb', 'w') as slurm_outfile: \n",
    "            with open(preamble) as preamble_infile:\n",
    "                for preamble_line in preamble_infile:\n",
    "                    slurm_outfile.write(preamble_line)\n",
    "                \n",
    "                slurm_outfile.write(\"\\n\")\n",
    "                slurm_outfile.write(command)\n",
    "                slurm_outfile.write(\"\\n\")\n",
    "                slurm_outfile.write('js -j $SLURM_JOB_ID')  "
   ]
  }
 ],
 "metadata": {
  "kernelspec": {
   "display_name": "Python 3 (ipykernel)",
   "language": "python",
   "name": "python3"
  },
  "language_info": {
   "codemirror_mode": {
    "name": "ipython",
    "version": 3
   },
   "file_extension": ".py",
   "mimetype": "text/x-python",
   "name": "python",
   "nbconvert_exporter": "python",
   "pygments_lexer": "ipython3",
   "version": "3.11.5"
  }
 },
 "nbformat": 4,
 "nbformat_minor": 5
}
